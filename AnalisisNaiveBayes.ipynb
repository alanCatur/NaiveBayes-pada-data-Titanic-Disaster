{
 "cells": [
  {
   "cell_type": "markdown",
   "id": "881cea1a-a489-4f6d-80f5-8a96bcd07e1e",
   "metadata": {},
   "source": [
    "# Analisis Naive Bayes"
   ]
  },
  {
   "cell_type": "markdown",
   "id": "29055031-11d6-4d36-886f-297881da1a85",
   "metadata": {},
   "source": [
    "### Import Modul"
   ]
  },
  {
   "cell_type": "code",
   "execution_count": 1,
   "id": "bad057df-5679-44b9-9410-a30363e7d049",
   "metadata": {},
   "outputs": [],
   "source": [
    "from sklearn.naive_bayes import GaussianNB\n",
    "from sklearn.naive_bayes import ComplementNB\n",
    "from sklearn.naive_bayes import MultinomialNB\n",
    "from sklearn.naive_bayes import BernoulliNB\n",
    "from sklearn.naive_bayes import CategoricalNB\n",
    "from sklearn.model_selection import train_test_split\n",
    "from sklearn.metrics import accuracy_score\n",
    "\n",
    "import pandas as pd\n",
    "import numpy as np\n",
    "import seaborn as sns\n",
    "from matplotlib import pyplot as plt"
   ]
  },
  {
   "cell_type": "markdown",
   "id": "b1e3976d-5787-4f06-b339-1665a6217947",
   "metadata": {},
   "source": [
    "### Import Data"
   ]
  },
  {
   "cell_type": "code",
   "execution_count": 2,
   "id": "a4f8223a-9f91-40b5-963c-61997751df2d",
   "metadata": {},
   "outputs": [
    {
     "name": "stdout",
     "output_type": "stream",
     "text": [
      "(891, 12)\n",
      "(418, 11)\n"
     ]
    }
   ],
   "source": [
    "d_train = pd.read_csv('train.csv')\n",
    "d_test = pd.read_csv('test.csv')\n",
    "\n",
    "print (d_train.shape)\n",
    "print (d_test.shape)"
   ]
  },
  {
   "cell_type": "code",
   "execution_count": 3,
   "id": "c562dc84-2cf0-4697-ab95-a7d20e184c2e",
   "metadata": {},
   "outputs": [
    {
     "data": {
      "text/html": [
       "<div>\n",
       "<style scoped>\n",
       "    .dataframe tbody tr th:only-of-type {\n",
       "        vertical-align: middle;\n",
       "    }\n",
       "\n",
       "    .dataframe tbody tr th {\n",
       "        vertical-align: top;\n",
       "    }\n",
       "\n",
       "    .dataframe thead th {\n",
       "        text-align: right;\n",
       "    }\n",
       "</style>\n",
       "<table border=\"1\" class=\"dataframe\">\n",
       "  <thead>\n",
       "    <tr style=\"text-align: right;\">\n",
       "      <th></th>\n",
       "      <th>PassengerId</th>\n",
       "      <th>Survived</th>\n",
       "      <th>Pclass</th>\n",
       "      <th>Name</th>\n",
       "      <th>Sex</th>\n",
       "      <th>Age</th>\n",
       "      <th>SibSp</th>\n",
       "      <th>Parch</th>\n",
       "      <th>Ticket</th>\n",
       "      <th>Fare</th>\n",
       "      <th>Cabin</th>\n",
       "      <th>Embarked</th>\n",
       "    </tr>\n",
       "  </thead>\n",
       "  <tbody>\n",
       "    <tr>\n",
       "      <th>0</th>\n",
       "      <td>1</td>\n",
       "      <td>0</td>\n",
       "      <td>3</td>\n",
       "      <td>Braund, Mr. Owen Harris</td>\n",
       "      <td>male</td>\n",
       "      <td>22.0</td>\n",
       "      <td>1</td>\n",
       "      <td>0</td>\n",
       "      <td>A/5 21171</td>\n",
       "      <td>7.2500</td>\n",
       "      <td>NaN</td>\n",
       "      <td>S</td>\n",
       "    </tr>\n",
       "    <tr>\n",
       "      <th>1</th>\n",
       "      <td>2</td>\n",
       "      <td>1</td>\n",
       "      <td>1</td>\n",
       "      <td>Cumings, Mrs. John Bradley (Florence Briggs Th...</td>\n",
       "      <td>female</td>\n",
       "      <td>38.0</td>\n",
       "      <td>1</td>\n",
       "      <td>0</td>\n",
       "      <td>PC 17599</td>\n",
       "      <td>71.2833</td>\n",
       "      <td>C85</td>\n",
       "      <td>C</td>\n",
       "    </tr>\n",
       "    <tr>\n",
       "      <th>2</th>\n",
       "      <td>3</td>\n",
       "      <td>1</td>\n",
       "      <td>3</td>\n",
       "      <td>Heikkinen, Miss. Laina</td>\n",
       "      <td>female</td>\n",
       "      <td>26.0</td>\n",
       "      <td>0</td>\n",
       "      <td>0</td>\n",
       "      <td>STON/O2. 3101282</td>\n",
       "      <td>7.9250</td>\n",
       "      <td>NaN</td>\n",
       "      <td>S</td>\n",
       "    </tr>\n",
       "    <tr>\n",
       "      <th>3</th>\n",
       "      <td>4</td>\n",
       "      <td>1</td>\n",
       "      <td>1</td>\n",
       "      <td>Futrelle, Mrs. Jacques Heath (Lily May Peel)</td>\n",
       "      <td>female</td>\n",
       "      <td>35.0</td>\n",
       "      <td>1</td>\n",
       "      <td>0</td>\n",
       "      <td>113803</td>\n",
       "      <td>53.1000</td>\n",
       "      <td>C123</td>\n",
       "      <td>S</td>\n",
       "    </tr>\n",
       "    <tr>\n",
       "      <th>4</th>\n",
       "      <td>5</td>\n",
       "      <td>0</td>\n",
       "      <td>3</td>\n",
       "      <td>Allen, Mr. William Henry</td>\n",
       "      <td>male</td>\n",
       "      <td>35.0</td>\n",
       "      <td>0</td>\n",
       "      <td>0</td>\n",
       "      <td>373450</td>\n",
       "      <td>8.0500</td>\n",
       "      <td>NaN</td>\n",
       "      <td>S</td>\n",
       "    </tr>\n",
       "  </tbody>\n",
       "</table>\n",
       "</div>"
      ],
      "text/plain": [
       "   PassengerId  Survived  Pclass  \\\n",
       "0            1         0       3   \n",
       "1            2         1       1   \n",
       "2            3         1       3   \n",
       "3            4         1       1   \n",
       "4            5         0       3   \n",
       "\n",
       "                                                Name     Sex   Age  SibSp  \\\n",
       "0                            Braund, Mr. Owen Harris    male  22.0      1   \n",
       "1  Cumings, Mrs. John Bradley (Florence Briggs Th...  female  38.0      1   \n",
       "2                             Heikkinen, Miss. Laina  female  26.0      0   \n",
       "3       Futrelle, Mrs. Jacques Heath (Lily May Peel)  female  35.0      1   \n",
       "4                           Allen, Mr. William Henry    male  35.0      0   \n",
       "\n",
       "   Parch            Ticket     Fare Cabin Embarked  \n",
       "0      0         A/5 21171   7.2500   NaN        S  \n",
       "1      0          PC 17599  71.2833   C85        C  \n",
       "2      0  STON/O2. 3101282   7.9250   NaN        S  \n",
       "3      0            113803  53.1000  C123        S  \n",
       "4      0            373450   8.0500   NaN        S  "
      ]
     },
     "execution_count": 3,
     "metadata": {},
     "output_type": "execute_result"
    }
   ],
   "source": [
    "d_train.head()"
   ]
  },
  {
   "cell_type": "code",
   "execution_count": 4,
   "id": "69f3b7f2-15c4-4b11-a10f-825b23e4a425",
   "metadata": {},
   "outputs": [
    {
     "data": {
      "text/html": [
       "<div>\n",
       "<style scoped>\n",
       "    .dataframe tbody tr th:only-of-type {\n",
       "        vertical-align: middle;\n",
       "    }\n",
       "\n",
       "    .dataframe tbody tr th {\n",
       "        vertical-align: top;\n",
       "    }\n",
       "\n",
       "    .dataframe thead th {\n",
       "        text-align: right;\n",
       "    }\n",
       "</style>\n",
       "<table border=\"1\" class=\"dataframe\">\n",
       "  <thead>\n",
       "    <tr style=\"text-align: right;\">\n",
       "      <th></th>\n",
       "      <th>PassengerId</th>\n",
       "      <th>Pclass</th>\n",
       "      <th>Name</th>\n",
       "      <th>Sex</th>\n",
       "      <th>Age</th>\n",
       "      <th>SibSp</th>\n",
       "      <th>Parch</th>\n",
       "      <th>Ticket</th>\n",
       "      <th>Fare</th>\n",
       "      <th>Cabin</th>\n",
       "      <th>Embarked</th>\n",
       "    </tr>\n",
       "  </thead>\n",
       "  <tbody>\n",
       "    <tr>\n",
       "      <th>0</th>\n",
       "      <td>892</td>\n",
       "      <td>3</td>\n",
       "      <td>Kelly, Mr. James</td>\n",
       "      <td>male</td>\n",
       "      <td>34.5</td>\n",
       "      <td>0</td>\n",
       "      <td>0</td>\n",
       "      <td>330911</td>\n",
       "      <td>7.8292</td>\n",
       "      <td>NaN</td>\n",
       "      <td>Q</td>\n",
       "    </tr>\n",
       "    <tr>\n",
       "      <th>1</th>\n",
       "      <td>893</td>\n",
       "      <td>3</td>\n",
       "      <td>Wilkes, Mrs. James (Ellen Needs)</td>\n",
       "      <td>female</td>\n",
       "      <td>47.0</td>\n",
       "      <td>1</td>\n",
       "      <td>0</td>\n",
       "      <td>363272</td>\n",
       "      <td>7.0000</td>\n",
       "      <td>NaN</td>\n",
       "      <td>S</td>\n",
       "    </tr>\n",
       "    <tr>\n",
       "      <th>2</th>\n",
       "      <td>894</td>\n",
       "      <td>2</td>\n",
       "      <td>Myles, Mr. Thomas Francis</td>\n",
       "      <td>male</td>\n",
       "      <td>62.0</td>\n",
       "      <td>0</td>\n",
       "      <td>0</td>\n",
       "      <td>240276</td>\n",
       "      <td>9.6875</td>\n",
       "      <td>NaN</td>\n",
       "      <td>Q</td>\n",
       "    </tr>\n",
       "    <tr>\n",
       "      <th>3</th>\n",
       "      <td>895</td>\n",
       "      <td>3</td>\n",
       "      <td>Wirz, Mr. Albert</td>\n",
       "      <td>male</td>\n",
       "      <td>27.0</td>\n",
       "      <td>0</td>\n",
       "      <td>0</td>\n",
       "      <td>315154</td>\n",
       "      <td>8.6625</td>\n",
       "      <td>NaN</td>\n",
       "      <td>S</td>\n",
       "    </tr>\n",
       "    <tr>\n",
       "      <th>4</th>\n",
       "      <td>896</td>\n",
       "      <td>3</td>\n",
       "      <td>Hirvonen, Mrs. Alexander (Helga E Lindqvist)</td>\n",
       "      <td>female</td>\n",
       "      <td>22.0</td>\n",
       "      <td>1</td>\n",
       "      <td>1</td>\n",
       "      <td>3101298</td>\n",
       "      <td>12.2875</td>\n",
       "      <td>NaN</td>\n",
       "      <td>S</td>\n",
       "    </tr>\n",
       "  </tbody>\n",
       "</table>\n",
       "</div>"
      ],
      "text/plain": [
       "   PassengerId  Pclass                                          Name     Sex  \\\n",
       "0          892       3                              Kelly, Mr. James    male   \n",
       "1          893       3              Wilkes, Mrs. James (Ellen Needs)  female   \n",
       "2          894       2                     Myles, Mr. Thomas Francis    male   \n",
       "3          895       3                              Wirz, Mr. Albert    male   \n",
       "4          896       3  Hirvonen, Mrs. Alexander (Helga E Lindqvist)  female   \n",
       "\n",
       "    Age  SibSp  Parch   Ticket     Fare Cabin Embarked  \n",
       "0  34.5      0      0   330911   7.8292   NaN        Q  \n",
       "1  47.0      1      0   363272   7.0000   NaN        S  \n",
       "2  62.0      0      0   240276   9.6875   NaN        Q  \n",
       "3  27.0      0      0   315154   8.6625   NaN        S  \n",
       "4  22.0      1      1  3101298  12.2875   NaN        S  "
      ]
     },
     "execution_count": 4,
     "metadata": {},
     "output_type": "execute_result"
    }
   ],
   "source": [
    "d_test.head()"
   ]
  },
  {
   "cell_type": "markdown",
   "id": "18f9aae2-1c48-429f-94e8-ce734d236105",
   "metadata": {},
   "source": [
    "### Mempersiapkan Data Train"
   ]
  },
  {
   "cell_type": "code",
   "execution_count": 5,
   "id": "45737941-0d3b-4ca1-822c-99877f7b1aef",
   "metadata": {},
   "outputs": [
    {
     "name": "stdout",
     "output_type": "stream",
     "text": [
      "<class 'pandas.core.frame.DataFrame'>\n",
      "RangeIndex: 891 entries, 0 to 890\n",
      "Data columns (total 12 columns):\n",
      " #   Column       Non-Null Count  Dtype  \n",
      "---  ------       --------------  -----  \n",
      " 0   PassengerId  891 non-null    int64  \n",
      " 1   Survived     891 non-null    int64  \n",
      " 2   Pclass       891 non-null    int64  \n",
      " 3   Name         891 non-null    object \n",
      " 4   Sex          891 non-null    object \n",
      " 5   Age          714 non-null    float64\n",
      " 6   SibSp        891 non-null    int64  \n",
      " 7   Parch        891 non-null    int64  \n",
      " 8   Ticket       891 non-null    object \n",
      " 9   Fare         891 non-null    float64\n",
      " 10  Cabin        204 non-null    object \n",
      " 11  Embarked     889 non-null    object \n",
      "dtypes: float64(2), int64(5), object(5)\n",
      "memory usage: 83.7+ KB\n"
     ]
    }
   ],
   "source": [
    "d_train.info()"
   ]
  },
  {
   "cell_type": "markdown",
   "id": "e37f450b-8f0d-4bbc-b7fc-201df4c079bc",
   "metadata": {},
   "source": [
    " ### Atribut \"Passenger ID\", \"Name\", dan \"Ticket\" dihapus karena tidak diperlukan"
   ]
  },
  {
   "cell_type": "code",
   "execution_count": 6,
   "id": "fba21c9c-91b9-4d31-9779-d85dc9219dfa",
   "metadata": {},
   "outputs": [
    {
     "data": {
      "text/html": [
       "<div>\n",
       "<style scoped>\n",
       "    .dataframe tbody tr th:only-of-type {\n",
       "        vertical-align: middle;\n",
       "    }\n",
       "\n",
       "    .dataframe tbody tr th {\n",
       "        vertical-align: top;\n",
       "    }\n",
       "\n",
       "    .dataframe thead th {\n",
       "        text-align: right;\n",
       "    }\n",
       "</style>\n",
       "<table border=\"1\" class=\"dataframe\">\n",
       "  <thead>\n",
       "    <tr style=\"text-align: right;\">\n",
       "      <th></th>\n",
       "      <th>Survived</th>\n",
       "      <th>Pclass</th>\n",
       "      <th>Sex</th>\n",
       "      <th>Age</th>\n",
       "      <th>SibSp</th>\n",
       "      <th>Parch</th>\n",
       "      <th>Fare</th>\n",
       "      <th>Cabin</th>\n",
       "      <th>Embarked</th>\n",
       "    </tr>\n",
       "  </thead>\n",
       "  <tbody>\n",
       "    <tr>\n",
       "      <th>0</th>\n",
       "      <td>0</td>\n",
       "      <td>3</td>\n",
       "      <td>male</td>\n",
       "      <td>22.0</td>\n",
       "      <td>1</td>\n",
       "      <td>0</td>\n",
       "      <td>7.2500</td>\n",
       "      <td>NaN</td>\n",
       "      <td>S</td>\n",
       "    </tr>\n",
       "    <tr>\n",
       "      <th>1</th>\n",
       "      <td>1</td>\n",
       "      <td>1</td>\n",
       "      <td>female</td>\n",
       "      <td>38.0</td>\n",
       "      <td>1</td>\n",
       "      <td>0</td>\n",
       "      <td>71.2833</td>\n",
       "      <td>C85</td>\n",
       "      <td>C</td>\n",
       "    </tr>\n",
       "    <tr>\n",
       "      <th>2</th>\n",
       "      <td>1</td>\n",
       "      <td>3</td>\n",
       "      <td>female</td>\n",
       "      <td>26.0</td>\n",
       "      <td>0</td>\n",
       "      <td>0</td>\n",
       "      <td>7.9250</td>\n",
       "      <td>NaN</td>\n",
       "      <td>S</td>\n",
       "    </tr>\n",
       "    <tr>\n",
       "      <th>3</th>\n",
       "      <td>1</td>\n",
       "      <td>1</td>\n",
       "      <td>female</td>\n",
       "      <td>35.0</td>\n",
       "      <td>1</td>\n",
       "      <td>0</td>\n",
       "      <td>53.1000</td>\n",
       "      <td>C123</td>\n",
       "      <td>S</td>\n",
       "    </tr>\n",
       "    <tr>\n",
       "      <th>4</th>\n",
       "      <td>0</td>\n",
       "      <td>3</td>\n",
       "      <td>male</td>\n",
       "      <td>35.0</td>\n",
       "      <td>0</td>\n",
       "      <td>0</td>\n",
       "      <td>8.0500</td>\n",
       "      <td>NaN</td>\n",
       "      <td>S</td>\n",
       "    </tr>\n",
       "  </tbody>\n",
       "</table>\n",
       "</div>"
      ],
      "text/plain": [
       "   Survived  Pclass     Sex   Age  SibSp  Parch     Fare Cabin Embarked\n",
       "0         0       3    male  22.0      1      0   7.2500   NaN        S\n",
       "1         1       1  female  38.0      1      0  71.2833   C85        C\n",
       "2         1       3  female  26.0      0      0   7.9250   NaN        S\n",
       "3         1       1  female  35.0      1      0  53.1000  C123        S\n",
       "4         0       3    male  35.0      0      0   8.0500   NaN        S"
      ]
     },
     "execution_count": 6,
     "metadata": {},
     "output_type": "execute_result"
    }
   ],
   "source": [
    "d_train.drop(['PassengerId','Name','Ticket'], axis = 1, inplace = True)\n",
    "d_train.head()"
   ]
  },
  {
   "cell_type": "code",
   "execution_count": 7,
   "id": "737feef4-c6d9-4e63-8c61-873a57205d49",
   "metadata": {},
   "outputs": [
    {
     "name": "stdout",
     "output_type": "stream",
     "text": [
      "Jumlah nilai yang hilang dari atribut survived : 0\n",
      "Jumlah nilai yang hilang dari atribut pclass : 0\n",
      "Jumlah nilai yang hilang dari atribut sex : 0\n",
      "Jumlah nilai yang hilang dari atribut age : 177\n",
      "Jumlah nilai yang hilang dari atribut sibsp : 0\n",
      "Jumlah nilai yang hilang dari atribut parch : 0\n",
      "Jumlah nilai yang hilang dari atribut fare : 0\n",
      "Jumlah nilai yang hilang dari atribut cabin : 687\n",
      "Jumlah nilai yang hilang dari atribut embarked : 2\n"
     ]
    }
   ],
   "source": [
    "print('Jumlah nilai yang hilang dari atribut survived :', d_train.Survived.isnull().sum())\n",
    "print('Jumlah nilai yang hilang dari atribut pclass :', d_train.Pclass.isnull().sum())\n",
    "print('Jumlah nilai yang hilang dari atribut sex :', d_train.Sex.isnull().sum())\n",
    "print('Jumlah nilai yang hilang dari atribut age :', d_train.Age.isnull().sum())\n",
    "print('Jumlah nilai yang hilang dari atribut sibsp :', d_train.SibSp.isnull().sum())\n",
    "print('Jumlah nilai yang hilang dari atribut parch :', d_train.Parch.isnull().sum())\n",
    "print('Jumlah nilai yang hilang dari atribut fare :', d_train.Fare.isnull().sum())\n",
    "print('Jumlah nilai yang hilang dari atribut cabin :', d_train.Cabin.isnull().sum())\n",
    "print('Jumlah nilai yang hilang dari atribut embarked :', d_train.Embarked.isnull().sum())"
   ]
  },
  {
   "cell_type": "code",
   "execution_count": 8,
   "id": "cfb8c3aa-b5d9-4163-be11-7d4546665573",
   "metadata": {},
   "outputs": [
    {
     "data": {
      "image/png": "[encoded data removed]",
      "text/plain": [
       "<Figure size 360x360 with 1 Axes>"
      ]
     },
     "metadata": {
      "needs_background": "light"
     },
     "output_type": "display_data"
    }
   ],
   "source": [
    "hst_embarked = sns.catplot(x='Embarked', y='Survived', \n",
    "                           data=d_train, height=5, kind='bar', palette='muted')\n",
    "\n",
    "hst_embarked.despine(left=True)\n",
    "hst_embarked = hst_embarked.set_ylabels('Peluang Embarked terhadap Survived')"
   ]
  },
  {
   "cell_type": "code",
   "execution_count": 9,
   "id": "da4b5706-8564-4801-89d5-47937b695467",
   "metadata": {},
   "outputs": [
    {
     "name": "stdout",
     "output_type": "stream",
     "text": [
      "Jumlah nilai yang kosong dari atribut embarked 0\n"
     ]
    }
   ],
   "source": [
    "d_train = d_train.fillna({'Embarked':'C'})\n",
    "print('Jumlah nilai yang kosong dari atribut embarked', d_train.Embarked.isnull().sum())"
   ]
  },
  {
   "cell_type": "code",
   "execution_count": 10,
   "id": "8731b3ae-4e4c-47fa-beb1-ac4c8bd945a1",
   "metadata": {},
   "outputs": [
    {
     "data": {
      "text/html": [
       "<div>\n",
       "<style scoped>\n",
       "    .dataframe tbody tr th:only-of-type {\n",
       "        vertical-align: middle;\n",
       "    }\n",
       "\n",
       "    .dataframe tbody tr th {\n",
       "        vertical-align: top;\n",
       "    }\n",
       "\n",
       "    .dataframe thead th {\n",
       "        text-align: right;\n",
       "    }\n",
       "</style>\n",
       "<table border=\"1\" class=\"dataframe\">\n",
       "  <thead>\n",
       "    <tr style=\"text-align: right;\">\n",
       "      <th></th>\n",
       "      <th>Survived</th>\n",
       "      <th>Pclass</th>\n",
       "      <th>Sex</th>\n",
       "      <th>Age</th>\n",
       "      <th>SibSp</th>\n",
       "      <th>Parch</th>\n",
       "      <th>Fare</th>\n",
       "      <th>Cabin</th>\n",
       "      <th>Embarked</th>\n",
       "    </tr>\n",
       "  </thead>\n",
       "  <tbody>\n",
       "    <tr>\n",
       "      <th>0</th>\n",
       "      <td>0</td>\n",
       "      <td>3</td>\n",
       "      <td>male</td>\n",
       "      <td>22.0</td>\n",
       "      <td>1</td>\n",
       "      <td>0</td>\n",
       "      <td>7.2500</td>\n",
       "      <td>X</td>\n",
       "      <td>S</td>\n",
       "    </tr>\n",
       "    <tr>\n",
       "      <th>1</th>\n",
       "      <td>1</td>\n",
       "      <td>1</td>\n",
       "      <td>female</td>\n",
       "      <td>38.0</td>\n",
       "      <td>1</td>\n",
       "      <td>0</td>\n",
       "      <td>71.2833</td>\n",
       "      <td>C85</td>\n",
       "      <td>C</td>\n",
       "    </tr>\n",
       "    <tr>\n",
       "      <th>2</th>\n",
       "      <td>1</td>\n",
       "      <td>3</td>\n",
       "      <td>female</td>\n",
       "      <td>26.0</td>\n",
       "      <td>0</td>\n",
       "      <td>0</td>\n",
       "      <td>7.9250</td>\n",
       "      <td>X</td>\n",
       "      <td>S</td>\n",
       "    </tr>\n",
       "    <tr>\n",
       "      <th>3</th>\n",
       "      <td>1</td>\n",
       "      <td>1</td>\n",
       "      <td>female</td>\n",
       "      <td>35.0</td>\n",
       "      <td>1</td>\n",
       "      <td>0</td>\n",
       "      <td>53.1000</td>\n",
       "      <td>C123</td>\n",
       "      <td>S</td>\n",
       "    </tr>\n",
       "    <tr>\n",
       "      <th>4</th>\n",
       "      <td>0</td>\n",
       "      <td>3</td>\n",
       "      <td>male</td>\n",
       "      <td>35.0</td>\n",
       "      <td>0</td>\n",
       "      <td>0</td>\n",
       "      <td>8.0500</td>\n",
       "      <td>X</td>\n",
       "      <td>S</td>\n",
       "    </tr>\n",
       "  </tbody>\n",
       "</table>\n",
       "</div>"
      ],
      "text/plain": [
       "   Survived  Pclass     Sex   Age  SibSp  Parch     Fare Cabin Embarked\n",
       "0         0       3    male  22.0      1      0   7.2500     X        S\n",
       "1         1       1  female  38.0      1      0  71.2833   C85        C\n",
       "2         1       3  female  26.0      0      0   7.9250     X        S\n",
       "3         1       1  female  35.0      1      0  53.1000  C123        S\n",
       "4         0       3    male  35.0      0      0   8.0500     X        S"
      ]
     },
     "execution_count": 10,
     "metadata": {},
     "output_type": "execute_result"
    }
   ],
   "source": [
    "d_train = d_train.fillna({'Cabin':'X'})\n",
    "d_train.head()"
   ]
  },
  {
   "cell_type": "code",
   "execution_count": 11,
   "id": "47ddb0b8-35ab-4ed2-81ad-5e712febc945",
   "metadata": {},
   "outputs": [],
   "source": [
    "d_train['Cabin'] = d_train['Cabin'].str.slice(0,1)"
   ]
  },
  {
   "cell_type": "code",
   "execution_count": 12,
   "id": "60ce241a-1c0f-4cab-8813-c563257e6278",
   "metadata": {},
   "outputs": [
    {
     "data": {
      "image/png": "[encoded data removed]",
      "text/plain": [
       "<Figure size 360x360 with 1 Axes>"
      ]
     },
     "metadata": {
      "needs_background": "light"
     },
     "output_type": "display_data"
    }
   ],
   "source": [
    "hst_cabin = sns.catplot(x='Cabin', y='Survived', \n",
    "                           data=d_train, height=5, kind='bar', palette='muted')\n",
    "\n",
    "hst_cabin.despine(left=True)\n",
    "hst_cabin = hst_cabin.set_ylabels('Peluang Cabin terhadap Survived')"
   ]
  },
  {
   "cell_type": "code",
   "execution_count": 13,
   "id": "e2c0168d-eee3-46c5-8f40-74966dc741ee",
   "metadata": {},
   "outputs": [
    {
     "name": "stdout",
     "output_type": "stream",
     "text": [
      "jumlah nilai yang hilang dari atribut age : 0\n"
     ]
    }
   ],
   "source": [
    "d_train['Cabin'] = d_train['Cabin'].replace(['A','B','C','D','E','F','G','T','X'],[0,1,2,3,4,5,6,7,8])\n",
    "d_train['Embarked'] = d_train['Embarked'].replace(['S','C','Q'],[0,1,2])\n",
    "d_train['Sex'] = d_train['Sex'].replace(['male','female'],[0,1])\n",
    "d_train['Age'] = d_train['Age'].fillna(d_train['Age'].mean())\n",
    "print('jumlah nilai yang hilang dari atribut age :', d_train.Age.isnull().sum())"
   ]
  },
  {
   "cell_type": "code",
   "execution_count": 14,
   "id": "a69d5851-67a2-42f6-a6b3-c36fc5cced5c",
   "metadata": {},
   "outputs": [],
   "source": [
    "Y = d_train.Survived\n",
    "X = d_train\n",
    "X.drop(['Survived'],axis = 1, inplace = True)"
   ]
  },
  {
   "cell_type": "code",
   "execution_count": 15,
   "id": "fd70450d-6c67-420b-852e-45535d334791",
   "metadata": {},
   "outputs": [],
   "source": [
    "X_train1, X_test1, Y_train1, Y_test1 = train_test_split(X,Y,test_size=0.2,random_state=42)\n",
    "X_train2, X_test2, Y_train2, Y_test2 = train_test_split(X,Y,test_size=0.2,random_state=42)\n",
    "X_train3, X_test3, Y_train3, Y_test3 = train_test_split(X,Y,test_size=0.3,random_state=42)\n",
    "X_train4, X_test4, Y_train4, Y_test4 = train_test_split(X,Y,test_size=0.4,random_state=42)\n",
    "X_train5, X_test5, Y_train5, Y_test5 = train_test_split(X,Y,test_size=0.4,random_state=42)"
   ]
  },
  {
   "cell_type": "markdown",
   "id": "88ccccf4-fea3-4817-91f6-249c180269ee",
   "metadata": {},
   "source": [
    "### Model Gaussian NaiveBayes"
   ]
  },
  {
   "cell_type": "code",
   "execution_count": 16,
   "id": "4885bd42-4c30-420b-80d0-f2d55d6b8a95",
   "metadata": {},
   "outputs": [
    {
     "data": {
      "text/plain": [
       "GaussianNB()"
      ]
     },
     "execution_count": 16,
     "metadata": {},
     "output_type": "execute_result"
    }
   ],
   "source": [
    "model1 = GaussianNB()\n",
    "model1.fit(X_train1, Y_train1)\n",
    "model2 = GaussianNB()\n",
    "model2.fit(X_train2, Y_train2)\n",
    "model3 = GaussianNB()\n",
    "model3.fit(X_train3, Y_train3)\n",
    "model4 = GaussianNB()\n",
    "model4.fit(X_train4, Y_train4)\n",
    "model5 = GaussianNB()\n",
    "model5.fit(X_train5, Y_train5)"
   ]
  },
  {
   "cell_type": "code",
   "execution_count": 17,
   "id": "e2dafc8d-2c6c-474c-9fab-2643b58cee69",
   "metadata": {},
   "outputs": [
    {
     "name": "stdout",
     "output_type": "stream",
     "text": [
      "[0.776536312849162, 0.776536312849162, 0.8059701492537313, 0.8095238095238095, 0.8095238095238095]\n"
     ]
    }
   ],
   "source": [
    "y_pred1 = model1.predict(X_test1)\n",
    "y_pred2 = model2.predict(X_test2)\n",
    "y_pred3 = model3.predict(X_test3)\n",
    "y_pred4 = model4.predict(X_test4)\n",
    "y_pred5 = model5.predict(X_test5)\n",
    "\n",
    "acc1 = accuracy_score(y_pred1,Y_test1)\n",
    "acc2 = accuracy_score(y_pred2,Y_test2)\n",
    "acc3 = accuracy_score(y_pred3,Y_test3)\n",
    "acc4 = accuracy_score(y_pred4,Y_test4)\n",
    "acc5 = accuracy_score(y_pred5,Y_test5)\n",
    "\n",
    "acc_test = [acc1, acc2, acc3, acc4, acc5]\n",
    "print(acc_test)"
   ]
  },
  {
   "cell_type": "code",
   "execution_count": 18,
   "id": "e92ef4e0-0f64-4bbb-ab40-e0f89a29a646",
   "metadata": {},
   "outputs": [
    {
     "data": {
      "image/png": "[encoded data removed]",
      "text/plain": [
       "<Figure size 720x432 with 1 Axes>"
      ]
     },
     "metadata": {
      "needs_background": "light"
     },
     "output_type": "display_data"
    }
   ],
   "source": [
    "plt.figure(figsize=(10,6))\n",
    "xlabels = [\"Train 90%\", \"Train 80%\", \n",
    "           \"Train 70%\", \"Train 60%\", \"Train 50%\"]\n",
    "for i in range(len(xlabels)):\n",
    "    plt.bar(xlabels[i], acc_test[i])\n",
    "    plt.text(i-0.1, acc_test[i]+0.01, round(acc_test[i], 4))\n",
    "\n",
    "plt.ylim([0,1])\n",
    "plt.title(\"Model Gaussian Naive Bayes\")\n",
    "plt.ylabel(\"Akurasi\")\n",
    "plt.show()\n"
   ]
  },
  {
   "cell_type": "markdown",
   "id": "d7411c95-18c5-46f2-b432-3c3ca045a94d",
   "metadata": {},
   "source": [
    "### Model Complement NaiveBayes"
   ]
  },
  {
   "cell_type": "code",
   "execution_count": 19,
   "id": "2147195b-b7b4-436e-ad37-26ba2d9105df",
   "metadata": {},
   "outputs": [
    {
     "data": {
      "text/plain": [
       "ComplementNB()"
      ]
     },
     "execution_count": 19,
     "metadata": {},
     "output_type": "execute_result"
    }
   ],
   "source": [
    "model11 = ComplementNB()\n",
    "model11.fit(X_train1, Y_train1)\n",
    "model22 = ComplementNB()\n",
    "model22.fit(X_train2, Y_train2)\n",
    "model33 = ComplementNB()\n",
    "model33.fit(X_train3, Y_train3)\n",
    "model44 = ComplementNB()\n",
    "model44.fit(X_train4, Y_train4)\n",
    "model55 = ComplementNB()\n",
    "model55.fit(X_train5, Y_train5)"
   ]
  },
  {
   "cell_type": "code",
   "execution_count": 20,
   "id": "88994c8b-07b2-4f9a-b0dc-7e5e59fe909e",
   "metadata": {},
   "outputs": [
    {
     "name": "stdout",
     "output_type": "stream",
     "text": [
      "[0.7206703910614525, 0.7206703910614525, 0.7126865671641791, 0.7002801120448179, 0.7002801120448179]\n"
     ]
    }
   ],
   "source": [
    "y_pred1 = model11.predict(X_test1)\n",
    "y_pred2 = model22.predict(X_test2)\n",
    "y_pred3 = model33.predict(X_test3)\n",
    "y_pred4 = model44.predict(X_test4)\n",
    "y_pred5 = model55.predict(X_test5)\n",
    "\n",
    "acc1 = accuracy_score(y_pred1,Y_test1)\n",
    "acc2 = accuracy_score(y_pred2,Y_test2)\n",
    "acc3 = accuracy_score(y_pred3,Y_test3)\n",
    "acc4 = accuracy_score(y_pred4,Y_test4)\n",
    "acc5 = accuracy_score(y_pred5,Y_test5)\n",
    "\n",
    "acc_test = [acc1, acc2, acc3, acc4, acc5]\n",
    "print(acc_test)"
   ]
  },
  {
   "cell_type": "code",
   "execution_count": 21,
   "id": "f0eccedc-c630-43ef-8273-e487f301faf8",
   "metadata": {},
   "outputs": [
    {
     "data": {
      "image/png": "[encoded data removed]",
      "text/plain": [
       "<Figure size 720x432 with 1 Axes>"
      ]
     },
     "metadata": {
      "needs_background": "light"
     },
     "output_type": "display_data"
    }
   ],
   "source": [
    "plt.figure(figsize=(10,6))\n",
    "xlabels = [\"Train 90%\", \"Train 80%\", \n",
    "           \"Train 70%\", \"Train 60%\", \"Train 50%\"]\n",
    "for i in range(len(xlabels)):\n",
    "    plt.bar(xlabels[i], acc_test[i])\n",
    "    plt.text(i-0.1, acc_test[i]+0.01, round(acc_test[i], 4))\n",
    "\n",
    "plt.ylim([0,1])\n",
    "plt.title(\"Model Complement Naive Bayes\")\n",
    "plt.ylabel(\"Akurasi\")\n",
    "plt.show()\n"
   ]
  },
  {
   "cell_type": "markdown",
   "id": "ddcdf3ab-b93b-4fee-b0c8-2b9e4846659e",
   "metadata": {},
   "source": [
    "### Model Multinomial NaiveBayes"
   ]
  },
  {
   "cell_type": "code",
   "execution_count": 22,
   "id": "67510183-e415-46d9-badc-d3efdbd3dfd6",
   "metadata": {},
   "outputs": [
    {
     "data": {
      "text/plain": [
       "MultinomialNB()"
      ]
     },
     "execution_count": 22,
     "metadata": {},
     "output_type": "execute_result"
    }
   ],
   "source": [
    "model111 = MultinomialNB()\n",
    "model111.fit(X_train1, Y_train1)\n",
    "model222 = MultinomialNB()\n",
    "model222.fit(X_train2, Y_train2)\n",
    "model333 = MultinomialNB()\n",
    "model333.fit(X_train3, Y_train3)\n",
    "model444 = MultinomialNB()\n",
    "model444.fit(X_train4, Y_train4)\n",
    "model555 = MultinomialNB()\n",
    "model555.fit(X_train5, Y_train5)"
   ]
  },
  {
   "cell_type": "code",
   "execution_count": 23,
   "id": "3cca6838-e131-429c-b2d6-1b879ea3ac14",
   "metadata": {},
   "outputs": [
    {
     "name": "stdout",
     "output_type": "stream",
     "text": [
      "[0.7094972067039106, 0.7094972067039106, 0.6977611940298507, 0.6946778711484594, 0.6946778711484594]\n"
     ]
    }
   ],
   "source": [
    "y_pred1 = model111.predict(X_test1)\n",
    "y_pred2 = model222.predict(X_test2)\n",
    "y_pred3 = model333.predict(X_test3)\n",
    "y_pred4 = model444.predict(X_test4)\n",
    "y_pred5 = model555.predict(X_test5)\n",
    "\n",
    "acc1 = accuracy_score(y_pred1,Y_test1)\n",
    "acc2 = accuracy_score(y_pred2,Y_test2)\n",
    "acc3 = accuracy_score(y_pred3,Y_test3)\n",
    "acc4 = accuracy_score(y_pred4,Y_test4)\n",
    "acc5 = accuracy_score(y_pred5,Y_test5)\n",
    "\n",
    "acc_test = [acc1, acc2, acc3, acc4, acc5]\n",
    "print(acc_test)"
   ]
  },
  {
   "cell_type": "code",
   "execution_count": 24,
   "id": "bf082603-d8e6-420d-83d9-79efa5771928",
   "metadata": {},
   "outputs": [
    {
     "data": {
      "image/png": "[encoded data removed]",
      "text/plain": [
       "<Figure size 720x432 with 1 Axes>"
      ]
     },
     "metadata": {
      "needs_background": "light"
     },
     "output_type": "display_data"
    }
   ],
   "source": [
    "plt.figure(figsize=(10,6))\n",
    "xlabels = [\"Train 90%\", \"Train 80%\", \n",
    "           \"Train 70%\", \"Train 60%\", \"Train 50%\"]\n",
    "for i in range(len(xlabels)):\n",
    "    plt.bar(xlabels[i], acc_test[i])\n",
    "    plt.text(i-0.1, acc_test[i]+0.01, round(acc_test[i], 4))\n",
    "\n",
    "plt.ylim([0,1])\n",
    "plt.title(\"Model Multinomial Naive Bayes\")\n",
    "plt.ylabel(\"Akurasi\")\n",
    "plt.show()"
   ]
  },
  {
   "cell_type": "markdown",
   "id": "7cc581e4-1ffa-4452-bc90-32dafeb72138",
   "metadata": {},
   "source": [
    "### Model Bernoulli NaiveBayes"
   ]
  },
  {
   "cell_type": "code",
   "execution_count": 26,
   "id": "b3829fca-1142-479a-90cd-d3a23f8684a0",
   "metadata": {},
   "outputs": [
    {
     "data": {
      "text/plain": [
       "BernoulliNB()"
      ]
     },
     "execution_count": 26,
     "metadata": {},
     "output_type": "execute_result"
    }
   ],
   "source": [
    "model1111 = BernoulliNB()\n",
    "model1111.fit(X_train1, Y_train1)\n",
    "model2222 = BernoulliNB()\n",
    "model2222.fit(X_train2, Y_train2)\n",
    "model3333 = BernoulliNB()\n",
    "model3333.fit(X_train3, Y_train3)\n",
    "model4444 = BernoulliNB()\n",
    "model4444.fit(X_train4, Y_train4)\n",
    "model5555 = BernoulliNB()\n",
    "model5555.fit(X_train5, Y_train5)"
   ]
  },
  {
   "cell_type": "code",
   "execution_count": 27,
   "id": "18158186-fbfd-4b11-aa24-f64aa6002b3f",
   "metadata": {},
   "outputs": [
    {
     "name": "stdout",
     "output_type": "stream",
     "text": [
      "[0.7821229050279329, 0.7821229050279329, 0.7910447761194029, 0.773109243697479, 0.773109243697479]\n"
     ]
    }
   ],
   "source": [
    "y_pred1 = model1111.predict(X_test1)\n",
    "y_pred2 = model2222.predict(X_test2)\n",
    "y_pred3 = model3333.predict(X_test3)\n",
    "y_pred4 = model4444.predict(X_test4)\n",
    "y_pred5 = model5555.predict(X_test5)\n",
    "\n",
    "acc1 = accuracy_score(y_pred1,Y_test1)\n",
    "acc2 = accuracy_score(y_pred2,Y_test2)\n",
    "acc3 = accuracy_score(y_pred3,Y_test3)\n",
    "acc4 = accuracy_score(y_pred4,Y_test4)\n",
    "acc5 = accuracy_score(y_pred5,Y_test5)\n",
    "\n",
    "acc_test = [acc1, acc2, acc3, acc4, acc5]\n",
    "print(acc_test)"
   ]
  },
  {
   "cell_type": "code",
   "execution_count": 28,
   "id": "2c42492a-0f45-4a36-9ed4-a76897c44546",
   "metadata": {},
   "outputs": [
    {
     "data": {
      "image/png": "[encoded data removed]",
      "text/plain": [
       "<Figure size 720x432 with 1 Axes>"
      ]
     },
     "metadata": {
      "needs_background": "light"
     },
     "output_type": "display_data"
    }
   ],
   "source": [
    "plt.figure(figsize=(10,6))\n",
    "xlabels = [\"Train 90%\", \"Train 80%\", \n",
    "           \"Train 70%\", \"Train 60%\", \"Train 50%\"]\n",
    "for i in range(len(xlabels)):\n",
    "    plt.bar(xlabels[i], acc_test[i])\n",
    "    plt.text(i-0.1, acc_test[i]+0.01, round(acc_test[i], 4))\n",
    "\n",
    "plt.ylim([0,1])\n",
    "plt.title(\"Model Bernoulli Naive Bayes\")\n",
    "plt.ylabel(\"Akurasi\")\n",
    "plt.show()"
   ]
  },
  {
   "cell_type": "markdown",
   "id": "80b3e16d-f8b2-48a7-8f8e-63d7980be1b2",
   "metadata": {},
   "source": [
    "### Model Categorical NaiveBayes"
   ]
  },
  {
   "cell_type": "code",
   "execution_count": 34,
   "id": "569cc131-c0b9-4bd0-bd5b-b6d093ed04a5",
   "metadata": {},
   "outputs": [
    {
     "data": {
      "text/plain": [
       "CategoricalNB()"
      ]
     },
     "execution_count": 34,
     "metadata": {},
     "output_type": "execute_result"
    }
   ],
   "source": [
    "model11111 = CategoricalNB()\n",
    "model11111.fit(X_train1, Y_train1)\n",
    "model22222 = CategoricalNB()\n",
    "model22222.fit(X_train2, Y_train2)\n",
    "model33333 = CategoricalNB()\n",
    "model33333.fit(X_train3, Y_train3)"
   ]
  },
  {
   "cell_type": "code",
   "execution_count": 35,
   "id": "404c2edd-171a-402d-b933-4ad69f2d4e60",
   "metadata": {},
   "outputs": [
    {
     "name": "stdout",
     "output_type": "stream",
     "text": [
      "[0.776536312849162, 0.776536312849162, 0.753731343283582, 0.773109243697479, 0.773109243697479]\n"
     ]
    }
   ],
   "source": [
    "y_pred1 = model11111.predict(X_test1)\n",
    "y_pred2 = model22222.predict(X_test2)\n",
    "y_pred3 = model33333.predict(X_test3)\n",
    "\n",
    "acc1 = accuracy_score(y_pred1,Y_test1)\n",
    "acc2 = accuracy_score(y_pred2,Y_test2)\n",
    "acc3 = accuracy_score(y_pred3,Y_test3)\n",
    "\n",
    "acc_test = [acc1, acc2, acc3, acc4, acc5]\n",
    "print(acc_test)"
   ]
  },
  {
   "cell_type": "code",
   "execution_count": 36,
   "id": "cf258d96-6df1-4d6d-83af-004a71cf2e32",
   "metadata": {},
   "outputs": [
    {
     "data": {
      "image/png": "[encoded data removed]",
      "text/plain": [
       "<Figure size 720x432 with 1 Axes>"
      ]
     },
     "metadata": {
      "needs_background": "light"
     },
     "output_type": "display_data"
    }
   ],
   "source": [
    "plt.figure(figsize=(10,6))\n",
    "xlabels = [\"Train 90%\", \"Train 80%\", \n",
    "           \"Train 70%\"]\n",
    "for i in range(len(xlabels)):\n",
    "    plt.bar(xlabels[i], acc_test[i])\n",
    "    plt.text(i-0.1, acc_test[i]+0.01, round(acc_test[i], 4))\n",
    "\n",
    "plt.ylim([0,1])\n",
    "plt.title(\"Model Categorical Naive Bayes\")\n",
    "plt.ylabel(\"Akurasi\")\n",
    "plt.show()"
   ]
  },
  {
   "cell_type": "markdown",
   "id": "ae8e9505-baf3-4287-b249-e7e0ecb4624f",
   "metadata": {},
   "source": [
    "### Terimakasih"
   ]
  }
 ],
 "metadata": {
  "kernelspec": {
   "display_name": "Python 3",
   "language": "python",
   "name": "python3"
  },
  "language_info": {
   "codemirror_mode": {
    "name": "ipython",
    "version": 3
   },
   "file_extension": ".py",
   "mimetype": "text/x-python",
   "name": "python",
   "nbconvert_exporter": "python",
   "pygments_lexer": "ipython3",
   "version": "3.8.8"
  }
 },
 "nbformat": 4,
 "nbformat_minor": 5
}
